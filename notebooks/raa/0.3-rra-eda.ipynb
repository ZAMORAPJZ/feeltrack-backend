{
 "cells": [
  {
   "cell_type": "code",
   "execution_count": 1,
   "id": "e2bdab03",
   "metadata": {},
   "outputs": [],
   "source": [
    "%load_ext autoreload\n",
    "%autoreload 2"
   ]
  },
  {
   "cell_type": "markdown",
   "id": "3d6e33d2",
   "metadata": {},
   "source": [
    "https://huggingface.co/datasets/fmplaza/EmoEvent"
   ]
  },
  {
   "cell_type": "code",
   "execution_count": 2,
   "id": "81b4a264",
   "metadata": {},
   "outputs": [],
   "source": [
    "import review_analyzer.config as rt\n",
    "import review_analyzer.plots as pt\n",
    "import pandas as pd"
   ]
  },
  {
   "cell_type": "code",
   "execution_count": 3,
   "id": "fb44dcc4",
   "metadata": {},
   "outputs": [],
   "source": [
    "emo_event_df = pd.read_csv(rt.EXTERNAL / 'emoevent_es.csv', sep=\"\\t\", encoding=\"utf-8\")"
   ]
  },
  {
   "cell_type": "code",
   "execution_count": 4,
   "id": "b22ce4d5",
   "metadata": {},
   "outputs": [
    {
     "data": {
      "text/html": [
       "<div>\n",
       "<style scoped>\n",
       "    .dataframe tbody tr th:only-of-type {\n",
       "        vertical-align: middle;\n",
       "    }\n",
       "\n",
       "    .dataframe tbody tr th {\n",
       "        vertical-align: top;\n",
       "    }\n",
       "\n",
       "    .dataframe thead th {\n",
       "        text-align: right;\n",
       "    }\n",
       "</style>\n",
       "<table border=\"1\" class=\"dataframe\">\n",
       "  <thead>\n",
       "    <tr style=\"text-align: right;\">\n",
       "      <th></th>\n",
       "      <th>id</th>\n",
       "      <th>tweet</th>\n",
       "      <th>emotion</th>\n",
       "      <th>offensive</th>\n",
       "    </tr>\n",
       "  </thead>\n",
       "  <tbody>\n",
       "    <tr>\n",
       "      <th>0</th>\n",
       "      <td>1</td>\n",
       "      <td>Acabo de ver la gran pérdida que estamos teniendo en estos momentos en HASHTAG... La catedral de HASHTAG está en llamas😭Hoy la humanidad ha perdido otro gran monumento arquitectónico 😔  URL</td>\n",
       "      <td>sadness</td>\n",
       "      <td>0</td>\n",
       "    </tr>\n",
       "    <tr>\n",
       "      <th>1</th>\n",
       "      <td>2</td>\n",
       "      <td>USER ¿A que vamos a reconstruir Notre Dame antes de mandar un solo barco de salvamento al Mediterráneo... a que sí? HASHTAG  URL</td>\n",
       "      <td>sadness</td>\n",
       "      <td>0</td>\n",
       "    </tr>\n",
       "    <tr>\n",
       "      <th>2</th>\n",
       "      <td>3</td>\n",
       "      <td>Desde ayer andan sufriendo por el incendio de HASHTAG y ni siquiera conocen la Basílica del voto nacional.</td>\n",
       "      <td>anger</td>\n",
       "      <td>0</td>\n",
       "    </tr>\n",
       "    <tr>\n",
       "      <th>3</th>\n",
       "      <td>4</td>\n",
       "      <td>Muy afectada -como muchísima gente- por lo ocurrido a HASHTAG, lo llevo por dentro. Me gusta saber y estar informada pero no voy a recrearme viendo imágenes y escuchando \"información\" que solamente da vueltas a lo mismo una y otra vez</td>\n",
       "      <td>sadness</td>\n",
       "      <td>0</td>\n",
       "    </tr>\n",
       "    <tr>\n",
       "      <th>4</th>\n",
       "      <td>5</td>\n",
       "      <td>Es una mierda lo que paso en HASHTAG pero please dejen de subir su foto en HASHTAG 🙄😴</td>\n",
       "      <td>disgust</td>\n",
       "      <td>1</td>\n",
       "    </tr>\n",
       "    <tr>\n",
       "      <th>...</th>\n",
       "      <td>...</td>\n",
       "      <td>...</td>\n",
       "      <td>...</td>\n",
       "      <td>...</td>\n",
       "    </tr>\n",
       "    <tr>\n",
       "      <th>8404</th>\n",
       "      <td>8405</td>\n",
       "      <td>Dembele es un imbécil, neta es increíble lo pendejo que está. HASHTAG HASHTAG</td>\n",
       "      <td>anger</td>\n",
       "      <td>1</td>\n",
       "    </tr>\n",
       "    <tr>\n",
       "      <th>8405</th>\n",
       "      <td>8406</td>\n",
       "      <td>HASHTAG Puta q son desagradables los wnes del Barca en especial Lucho Suarez wm! HASHTAG HASHTAG HASHTAG</td>\n",
       "      <td>anger</td>\n",
       "      <td>1</td>\n",
       "    </tr>\n",
       "    <tr>\n",
       "      <th>8406</th>\n",
       "      <td>8407</td>\n",
       "      <td>Puta que me cae mal Suárez ctm HASHTAG</td>\n",
       "      <td>anger</td>\n",
       "      <td>1</td>\n",
       "    </tr>\n",
       "    <tr>\n",
       "      <th>8407</th>\n",
       "      <td>8408</td>\n",
       "      <td>Como te odio USER, odio tus comentarios filosóficos, tus sonidos  detrás de mariano, tu fanatismo por el tiki tiki, tu falsa modestia... igual te quiero porq sos bostero! 😉 HASHTAG HASHTAG</td>\n",
       "      <td>anger</td>\n",
       "      <td>1</td>\n",
       "    </tr>\n",
       "    <tr>\n",
       "      <th>8408</th>\n",
       "      <td>8409</td>\n",
       "      <td>Miedo me da que mi país esté en manos de personas como tú ASESINO! HASHTAG HASHTAG  URL</td>\n",
       "      <td>fear</td>\n",
       "      <td>1</td>\n",
       "    </tr>\n",
       "  </tbody>\n",
       "</table>\n",
       "<p>8409 rows × 4 columns</p>\n",
       "</div>"
      ],
      "text/plain": [
       "        id  \\\n",
       "0        1   \n",
       "1        2   \n",
       "2        3   \n",
       "3        4   \n",
       "4        5   \n",
       "...    ...   \n",
       "8404  8405   \n",
       "8405  8406   \n",
       "8406  8407   \n",
       "8407  8408   \n",
       "8408  8409   \n",
       "\n",
       "                                                                                                                                                                                                                                           tweet  \\\n",
       "0                                                  Acabo de ver la gran pérdida que estamos teniendo en estos momentos en HASHTAG... La catedral de HASHTAG está en llamas😭Hoy la humanidad ha perdido otro gran monumento arquitectónico 😔  URL   \n",
       "1                                                                                                               USER ¿A que vamos a reconstruir Notre Dame antes de mandar un solo barco de salvamento al Mediterráneo... a que sí? HASHTAG  URL   \n",
       "2                                                                                                                                     Desde ayer andan sufriendo por el incendio de HASHTAG y ni siquiera conocen la Basílica del voto nacional.   \n",
       "3     Muy afectada -como muchísima gente- por lo ocurrido a HASHTAG, lo llevo por dentro. Me gusta saber y estar informada pero no voy a recrearme viendo imágenes y escuchando \"información\" que solamente da vueltas a lo mismo una y otra vez   \n",
       "4                                                                                                                                                          Es una mierda lo que paso en HASHTAG pero please dejen de subir su foto en HASHTAG 🙄😴   \n",
       "...                                                                                                                                                                                                                                          ...   \n",
       "8404                                                                                                                                                               Dembele es un imbécil, neta es increíble lo pendejo que está. HASHTAG HASHTAG   \n",
       "8405                                                                                                                                    HASHTAG Puta q son desagradables los wnes del Barca en especial Lucho Suarez wm! HASHTAG HASHTAG HASHTAG   \n",
       "8406                                                                                                                                                                                                      Puta que me cae mal Suárez ctm HASHTAG   \n",
       "8407                                                Como te odio USER, odio tus comentarios filosóficos, tus sonidos  detrás de mariano, tu fanatismo por el tiki tiki, tu falsa modestia... igual te quiero porq sos bostero! 😉 HASHTAG HASHTAG   \n",
       "8408                                                                                                                                                     Miedo me da que mi país esté en manos de personas como tú ASESINO! HASHTAG HASHTAG  URL   \n",
       "\n",
       "      emotion  offensive  \n",
       "0     sadness          0  \n",
       "1     sadness          0  \n",
       "2       anger          0  \n",
       "3     sadness          0  \n",
       "4     disgust          1  \n",
       "...       ...        ...  \n",
       "8404    anger          1  \n",
       "8405    anger          1  \n",
       "8406    anger          1  \n",
       "8407    anger          1  \n",
       "8408     fear          1  \n",
       "\n",
       "[8409 rows x 4 columns]"
      ]
     },
     "metadata": {},
     "output_type": "display_data"
    }
   ],
   "source": [
    "pt.show_full_dataset(emo_event_df)"
   ]
  },
  {
   "cell_type": "code",
   "execution_count": 16,
   "id": "5e8e973c",
   "metadata": {},
   "outputs": [
    {
     "data": {
      "text/plain": [
       "emotion\n",
       "others      4127\n",
       "joy         1815\n",
       "sadness     1009\n",
       "anger        857\n",
       "surprise     344\n",
       "disgust      161\n",
       "fear          96\n",
       "Name: count, dtype: int64"
      ]
     },
     "execution_count": 16,
     "metadata": {},
     "output_type": "execute_result"
    }
   ],
   "source": [
    "emotion_counts = emo_event_df['emotion'].value_counts()\n",
    "emotion_counts"
   ]
  },
  {
   "cell_type": "code",
   "execution_count": 5,
   "id": "f07fa9a6",
   "metadata": {},
   "outputs": [
    {
     "data": {
      "image/png": "[encoded data removed]",
      "text/plain": [
       "<Figure size 1000x500 with 1 Axes>"
      ]
     },
     "metadata": {},
     "output_type": "display_data"
    }
   ],
   "source": [
    "pt.plot_histo(emo_event_df, 'emotion')"
   ]
  },
  {
   "cell_type": "code",
   "execution_count": 6,
   "id": "df047e36",
   "metadata": {},
   "outputs": [],
   "source": [
    "import seaborn as sns\n",
    "import matplotlib.pyplot as plt"
   ]
  },
  {
   "cell_type": "code",
   "execution_count": 8,
   "id": "05ed3722",
   "metadata": {},
   "outputs": [],
   "source": [
    "emotion_ohe_df = pd.get_dummies(emo_event_df['emotion'])\n",
    "df_encoded = pd.concat([emo_event_df[['tweet']], emotion_ohe_df], axis=1)\n",
    "df_grouped = df_encoded.groupby('tweet').max().reset_index()"
   ]
  },
  {
   "cell_type": "code",
   "execution_count": 10,
   "id": "b0f82834",
   "metadata": {},
   "outputs": [
    {
     "data": {
      "image/png": "[encoded data removed]",
      "text/plain": [
       "<Figure size 1000x800 with 2 Axes>"
      ]
     },
     "metadata": {},
     "output_type": "display_data"
    }
   ],
   "source": [
    "emotion_columns = emotion_ohe_df.columns\n",
    "corr_matrix = df_grouped[emotion_columns].corr()\n",
    "\n",
    "plt.figure(figsize=(10,8))\n",
    "sns.heatmap(corr_matrix, annot=True, cmap=\"coolwarm\", vmin=0, vmax=1)\n",
    "plt.title(\"Correlación entre emociones\")\n",
    "plt.show()"
   ]
  },
  {
   "cell_type": "code",
   "execution_count": 7,
   "id": "72e0745d",
   "metadata": {},
   "outputs": [
    {
     "data": {
      "image/png": "[encoded data removed]",
      "text/plain": [
       "<Figure size 1000x600 with 1 Axes>"
      ]
     },
     "metadata": {},
     "output_type": "display_data"
    }
   ],
   "source": [
    "emo_event_df['char_length'] = emo_event_df['tweet'].str.len()\n",
    "\n",
    "plt.figure(figsize=(10,6))\n",
    "sns.boxplot(data=emo_event_df, x='emotion', y='char_length')\n",
    "plt.title(\"Distribución de longitud de texto por emoción\")\n",
    "plt.ylabel(\"Cantidad de caracteres\")\n",
    "plt.xticks(rotation=45)\n",
    "plt.show()"
   ]
  },
  {
   "cell_type": "code",
   "execution_count": 17,
   "id": "769da510",
   "metadata": {},
   "outputs": [],
   "source": [
    "from transformers import BertForSequenceClassification, AutoTokenizer"
   ]
  },
  {
   "cell_type": "code",
   "execution_count": 18,
   "id": "8debc6cd",
   "metadata": {},
   "outputs": [
    {
     "data": {
      "text/html": [
       "<div>\n",
       "<style scoped>\n",
       "    .dataframe tbody tr th:only-of-type {\n",
       "        vertical-align: middle;\n",
       "    }\n",
       "\n",
       "    .dataframe tbody tr th {\n",
       "        vertical-align: top;\n",
       "    }\n",
       "\n",
       "    .dataframe thead th {\n",
       "        text-align: right;\n",
       "    }\n",
       "</style>\n",
       "<table border=\"1\" class=\"dataframe\">\n",
       "  <thead>\n",
       "    <tr style=\"text-align: right;\">\n",
       "      <th></th>\n",
       "      <th>id</th>\n",
       "      <th>tweet</th>\n",
       "      <th>emotion</th>\n",
       "      <th>offensive</th>\n",
       "      <th>char_length</th>\n",
       "    </tr>\n",
       "  </thead>\n",
       "  <tbody>\n",
       "    <tr>\n",
       "      <th>0</th>\n",
       "      <td>1</td>\n",
       "      <td>Acabo de ver la gran pérdida que estamos tenie...</td>\n",
       "      <td>sadness</td>\n",
       "      <td>0</td>\n",
       "      <td>189</td>\n",
       "    </tr>\n",
       "    <tr>\n",
       "      <th>1</th>\n",
       "      <td>2</td>\n",
       "      <td>USER ¿A que vamos a reconstruir Notre Dame ant...</td>\n",
       "      <td>sadness</td>\n",
       "      <td>0</td>\n",
       "      <td>128</td>\n",
       "    </tr>\n",
       "    <tr>\n",
       "      <th>2</th>\n",
       "      <td>3</td>\n",
       "      <td>Desde ayer andan sufriendo por el incendio de ...</td>\n",
       "      <td>anger</td>\n",
       "      <td>0</td>\n",
       "      <td>106</td>\n",
       "    </tr>\n",
       "    <tr>\n",
       "      <th>3</th>\n",
       "      <td>4</td>\n",
       "      <td>Muy afectada -como muchísima gente- por lo ocu...</td>\n",
       "      <td>sadness</td>\n",
       "      <td>0</td>\n",
       "      <td>234</td>\n",
       "    </tr>\n",
       "    <tr>\n",
       "      <th>4</th>\n",
       "      <td>5</td>\n",
       "      <td>Es una mierda lo que paso en HASHTAG pero plea...</td>\n",
       "      <td>disgust</td>\n",
       "      <td>1</td>\n",
       "      <td>85</td>\n",
       "    </tr>\n",
       "  </tbody>\n",
       "</table>\n",
       "</div>"
      ],
      "text/plain": [
       "   id                                              tweet  emotion  offensive  \\\n",
       "0   1  Acabo de ver la gran pérdida que estamos tenie...  sadness          0   \n",
       "1   2  USER ¿A que vamos a reconstruir Notre Dame ant...  sadness          0   \n",
       "2   3  Desde ayer andan sufriendo por el incendio de ...    anger          0   \n",
       "3   4  Muy afectada -como muchísima gente- por lo ocu...  sadness          0   \n",
       "4   5  Es una mierda lo que paso en HASHTAG pero plea...  disgust          1   \n",
       "\n",
       "   char_length  \n",
       "0          189  \n",
       "1          128  \n",
       "2          106  \n",
       "3          234  \n",
       "4           85  "
      ]
     },
     "execution_count": 18,
     "metadata": {},
     "output_type": "execute_result"
    }
   ],
   "source": [
    "emo_event_df.head()"
   ]
  },
  {
   "cell_type": "code",
   "execution_count": 3,
   "id": "85ad4766",
   "metadata": {},
   "outputs": [],
   "source": [
    "from transformers import BertForSequenceClassification, AutoTokenizer\n",
    "import torch\n",
    "import os"
   ]
  },
  {
   "cell_type": "code",
   "execution_count": 4,
   "id": "cecb2a52",
   "metadata": {},
   "outputs": [
    {
     "data": {
      "text/plain": [
       "BertForSequenceClassification(\n",
       "  (bert): BertModel(\n",
       "    (embeddings): BertEmbeddings(\n",
       "      (word_embeddings): Embedding(31002, 768, padding_idx=1)\n",
       "      (position_embeddings): Embedding(512, 768)\n",
       "      (token_type_embeddings): Embedding(2, 768)\n",
       "      (LayerNorm): LayerNorm((768,), eps=1e-12, elementwise_affine=True)\n",
       "      (dropout): Dropout(p=0.1, inplace=False)\n",
       "    )\n",
       "    (encoder): BertEncoder(\n",
       "      (layer): ModuleList(\n",
       "        (0-11): 12 x BertLayer(\n",
       "          (attention): BertAttention(\n",
       "            (self): BertSdpaSelfAttention(\n",
       "              (query): Linear(in_features=768, out_features=768, bias=True)\n",
       "              (key): Linear(in_features=768, out_features=768, bias=True)\n",
       "              (value): Linear(in_features=768, out_features=768, bias=True)\n",
       "              (dropout): Dropout(p=0.1, inplace=False)\n",
       "            )\n",
       "            (output): BertSelfOutput(\n",
       "              (dense): Linear(in_features=768, out_features=768, bias=True)\n",
       "              (LayerNorm): LayerNorm((768,), eps=1e-12, elementwise_affine=True)\n",
       "              (dropout): Dropout(p=0.1, inplace=False)\n",
       "            )\n",
       "          )\n",
       "          (intermediate): BertIntermediate(\n",
       "            (dense): Linear(in_features=768, out_features=3072, bias=True)\n",
       "            (intermediate_act_fn): GELUActivation()\n",
       "          )\n",
       "          (output): BertOutput(\n",
       "            (dense): Linear(in_features=3072, out_features=768, bias=True)\n",
       "            (LayerNorm): LayerNorm((768,), eps=1e-12, elementwise_affine=True)\n",
       "            (dropout): Dropout(p=0.1, inplace=False)\n",
       "          )\n",
       "        )\n",
       "      )\n",
       "    )\n",
       "    (pooler): BertPooler(\n",
       "      (dense): Linear(in_features=768, out_features=768, bias=True)\n",
       "      (activation): Tanh()\n",
       "    )\n",
       "  )\n",
       "  (dropout): Dropout(p=0.1, inplace=False)\n",
       "  (classifier): Linear(in_features=768, out_features=28, bias=True)\n",
       ")"
      ]
     },
     "execution_count": 4,
     "metadata": {},
     "output_type": "execute_result"
    }
   ],
   "source": [
    "model_path = \"./modelo_multilabel_goemotions\"\n",
    "\n",
    "model = BertForSequenceClassification.from_pretrained(model_path)\n",
    "tokenizer = AutoTokenizer.from_pretrained(model_path)\n",
    "model.eval()"
   ]
  },
  {
   "cell_type": "code",
   "execution_count": null,
   "id": "8495c318",
   "metadata": {},
   "outputs": [],
   "source": []
  },
  {
   "cell_type": "code",
   "execution_count": 71,
   "id": "96dfef8c",
   "metadata": {},
   "outputs": [],
   "source": [
    "from torch.utils.data import DataLoader\n",
    "from transformers import DataCollatorWithPadding"
   ]
  },
  {
   "cell_type": "code",
   "execution_count": 72,
   "id": "1de68140",
   "metadata": {},
   "outputs": [],
   "source": [
    "texts = emo_event_df[\"tweet\"].tolist()"
   ]
  },
  {
   "cell_type": "code",
   "execution_count": 73,
   "id": "eba845f8",
   "metadata": {},
   "outputs": [],
   "source": [
    "tokenized_inputs = tokenizer(texts, padding=True, truncation=True, return_tensors=\"pt\", max_length=128)"
   ]
  },
  {
   "cell_type": "code",
   "execution_count": 74,
   "id": "21d88068",
   "metadata": {},
   "outputs": [],
   "source": [
    "data_collator = DataCollatorWithPadding(tokenizer=tokenizer, return_tensors=\"pt\")\n",
    "dataloader = DataLoader(\n",
    "    list(zip(tokenized_inputs[\"input_ids\"], tokenized_inputs[\"attention_mask\"])),\n",
    "    batch_size=16,\n",
    "    collate_fn=lambda batch: data_collator(\n",
    "        {\"input_ids\": [x[0] for x in batch], \"attention_mask\": [x[1] for x in batch]}\n",
    "    )\n",
    ")"
   ]
  },
  {
   "cell_type": "code",
   "execution_count": 90,
   "id": "8923fac1",
   "metadata": {},
   "outputs": [
    {
     "name": "stdout",
     "output_type": "stream",
     "text": [
      "Total de batches: 526\n"
     ]
    }
   ],
   "source": [
    "from tqdm import tqdm\n",
    "\n",
    "print(f\"Total de batches: {len(dataloader)}\")"
   ]
  },
  {
   "cell_type": "code",
   "execution_count": 75,
   "id": "6f28dbdc",
   "metadata": {},
   "outputs": [],
   "source": [
    "all_probs = []\n",
    "\n",
    "with torch.no_grad():\n",
    "    for batch in tqdm(dataloader, desc=\"Ejecutando inferencia\"):\n",
    "        outputs = model(**batch)\n",
    "        probs = torch.sigmoid(outputs.logits)\n",
    "        all_probs.append(probs)\n",
    "\n",
    "all_probs = torch.cat(all_probs, dim=0).cpu()"
   ]
  },
  {
   "cell_type": "code",
   "execution_count": 76,
   "id": "9e449b24",
   "metadata": {},
   "outputs": [],
   "source": [
    "emotion_labels = [\n",
    "    'admiration', 'amusement', 'anger', 'annoyance', 'approval', 'caring', 'confusion', 'curiosity',\n",
    "    'desire', 'disappointment', 'disapproval', 'embarrassment', 'excitement', 'fear', 'gratitude',\n",
    "    'grief', 'joy', 'love', 'nervousness', 'optimism', 'pride', 'realization', 'relief', 'remorse',\n",
    "    'sadness', 'surprise', 'neutral', 'disgust'\n",
    "]"
   ]
  },
  {
   "cell_type": "code",
   "execution_count": 77,
   "id": "b59879ad",
   "metadata": {},
   "outputs": [],
   "source": [
    "threshold = 0.5\n",
    "\n",
    "predicted_labels = []\n",
    "for prob_row in all_probs:\n",
    "    labels = [emotion_labels[i] for i, p in enumerate(prob_row) if p > threshold]\n",
    "    predicted_labels.append(labels)"
   ]
  },
  {
   "cell_type": "code",
   "execution_count": 78,
   "id": "37caaa19",
   "metadata": {},
   "outputs": [],
   "source": [
    "emo_event_df[\"pred_emotions\"] = predicted_labels"
   ]
  },
  {
   "cell_type": "code",
   "execution_count": 80,
   "id": "014e8911",
   "metadata": {},
   "outputs": [],
   "source": [
    "import review_analyzer.plots as pl"
   ]
  },
  {
   "cell_type": "code",
   "execution_count": 87,
   "id": "736ce82f",
   "metadata": {},
   "outputs": [
    {
     "data": {
      "text/html": [
       "<div>\n",
       "<style scoped>\n",
       "    .dataframe tbody tr th:only-of-type {\n",
       "        vertical-align: middle;\n",
       "    }\n",
       "\n",
       "    .dataframe tbody tr th {\n",
       "        vertical-align: top;\n",
       "    }\n",
       "\n",
       "    .dataframe thead th {\n",
       "        text-align: right;\n",
       "    }\n",
       "</style>\n",
       "<table border=\"1\" class=\"dataframe\">\n",
       "  <thead>\n",
       "    <tr style=\"text-align: right;\">\n",
       "      <th></th>\n",
       "      <th>tweet</th>\n",
       "      <th>emotion</th>\n",
       "      <th>pred_emotions</th>\n",
       "    </tr>\n",
       "  </thead>\n",
       "  <tbody>\n",
       "    <tr>\n",
       "      <th>4237</th>\n",
       "      <td>El USER jugando mal, golea 3-0 al USER  HASHTAG</td>\n",
       "      <td>others</td>\n",
       "      <td>[disappointment, pride]</td>\n",
       "    </tr>\n",
       "    <tr>\n",
       "      <th>7577</th>\n",
       "      <td>HASHTAG HASHTAG ¿Por qué el Brexit, Bolsonaro, Trump, Orbán o Salvini en sus países sí y en España Vox no? El argumento de que en esos países hay gente muy mala, ignorante y fascista y en España no hay tanta es demasiado simple.</td>\n",
       "      <td>anger</td>\n",
       "      <td>[annoyance, pride]</td>\n",
       "    </tr>\n",
       "    <tr>\n",
       "      <th>4314</th>\n",
       "      <td>Klopp es lo mejor que le haya podido suceder al Liverpool. Se tenía que decir... HASHTAG</td>\n",
       "      <td>others</td>\n",
       "      <td>[admiration]</td>\n",
       "    </tr>\n",
       "    <tr>\n",
       "      <th>1022</th>\n",
       "      <td>HASHTAG HASHTAG No tiene vergüenza el presidente argentino doble moral. Alienta el golpe de estado en el país hermano y repudia  un paro legítimo en su país tildando de golpistas a los trabajadores</td>\n",
       "      <td>anger</td>\n",
       "      <td>[anger, annoyance, disapproval, embarrassment, pride]</td>\n",
       "    </tr>\n",
       "    <tr>\n",
       "      <th>4938</th>\n",
       "      <td>Que orgulloso estoy de ser Español de bien.  HASHTAG HASHTAG HASHTAG  URL</td>\n",
       "      <td>joy</td>\n",
       "      <td>[admiration, relief]</td>\n",
       "    </tr>\n",
       "    <tr>\n",
       "      <th>5487</th>\n",
       "      <td>Reino Unido declara el cambio climático como emergencia nacional  URL HASHTAG HASHTAG HASHTAG HASHTAG via USER. RECIÉN SE DAN CUENTA, ESPEREMOS, QUE NO SEA DEMASIADO TARDE PARA ELLOS.</td>\n",
       "      <td>others</td>\n",
       "      <td>[caring, pride, realization]</td>\n",
       "    </tr>\n",
       "    <tr>\n",
       "      <th>4038</th>\n",
       "      <td>Día del trabajador como se debe: en la cama, mirando la HASHTAG y tratando de no sufrir tanto por USER 💘</td>\n",
       "      <td>others</td>\n",
       "      <td>[caring, pride, realization]</td>\n",
       "    </tr>\n",
       "    <tr>\n",
       "      <th>6291</th>\n",
       "      <td>Hoy sé más porque he leído más... HASHTAG  HASHTAG</td>\n",
       "      <td>others</td>\n",
       "      <td>[pride, remorse]</td>\n",
       "    </tr>\n",
       "    <tr>\n",
       "      <th>2517</th>\n",
       "      <td>🔴 Este HASHTAG tenemos un programa muy especial. ¡Y estrenamos horario! Ya puedes seguirlo en directo 😉👉  URL  URL</td>\n",
       "      <td>others</td>\n",
       "      <td>[admiration, fear, love]</td>\n",
       "    </tr>\n",
       "    <tr>\n",
       "      <th>1287</th>\n",
       "      <td>USER Un pueblo unido jamas sera vencido HASHTAG animo les da el pueblo de HASHTAG</td>\n",
       "      <td>joy</td>\n",
       "      <td>[desire, disapproval, pride, realization]</td>\n",
       "    </tr>\n",
       "  </tbody>\n",
       "</table>\n",
       "</div>"
      ],
      "text/plain": [
       "                                                                                                                                                                                                                                     tweet  \\\n",
       "4237                                                                                                                                                                                       El USER jugando mal, golea 3-0 al USER  HASHTAG   \n",
       "7577  HASHTAG HASHTAG ¿Por qué el Brexit, Bolsonaro, Trump, Orbán o Salvini en sus países sí y en España Vox no? El argumento de que en esos países hay gente muy mala, ignorante y fascista y en España no hay tanta es demasiado simple.   \n",
       "4314                                                                                                                                              Klopp es lo mejor que le haya podido suceder al Liverpool. Se tenía que decir... HASHTAG   \n",
       "1022                                 HASHTAG HASHTAG No tiene vergüenza el presidente argentino doble moral. Alienta el golpe de estado en el país hermano y repudia  un paro legítimo en su país tildando de golpistas a los trabajadores   \n",
       "4938                                                                                                                                                             Que orgulloso estoy de ser Español de bien.  HASHTAG HASHTAG HASHTAG  URL   \n",
       "5487                                               Reino Unido declara el cambio climático como emergencia nacional  URL HASHTAG HASHTAG HASHTAG HASHTAG via USER. RECIÉN SE DAN CUENTA, ESPEREMOS, QUE NO SEA DEMASIADO TARDE PARA ELLOS.   \n",
       "4038                                                                                                                              Día del trabajador como se debe: en la cama, mirando la HASHTAG y tratando de no sufrir tanto por USER 💘   \n",
       "6291                                                                                                                                                                                    Hoy sé más porque he leído más... HASHTAG  HASHTAG   \n",
       "2517                                                                                                                    🔴 Este HASHTAG tenemos un programa muy especial. ¡Y estrenamos horario! Ya puedes seguirlo en directo 😉👉  URL  URL   \n",
       "1287                                                                                                                                                     USER Un pueblo unido jamas sera vencido HASHTAG animo les da el pueblo de HASHTAG   \n",
       "\n",
       "     emotion                                          pred_emotions  \n",
       "4237  others                                [disappointment, pride]  \n",
       "7577   anger                                     [annoyance, pride]  \n",
       "4314  others                                           [admiration]  \n",
       "1022   anger  [anger, annoyance, disapproval, embarrassment, pride]  \n",
       "4938     joy                                   [admiration, relief]  \n",
       "5487  others                           [caring, pride, realization]  \n",
       "4038  others                           [caring, pride, realization]  \n",
       "6291  others                                       [pride, remorse]  \n",
       "2517  others                               [admiration, fear, love]  \n",
       "1287     joy              [desire, disapproval, pride, realization]  "
      ]
     },
     "metadata": {},
     "output_type": "display_data"
    }
   ],
   "source": [
    "pl.show_full_dataset(emo_event_df[[\"tweet\", \"emotion\", \"pred_emotions\"]].sample(10, random_state=42))"
   ]
  },
  {
   "cell_type": "code",
   "execution_count": 86,
   "id": "187b3fc3",
   "metadata": {},
   "outputs": [
    {
     "data": {
      "text/html": [
       "<div>\n",
       "<style scoped>\n",
       "    .dataframe tbody tr th:only-of-type {\n",
       "        vertical-align: middle;\n",
       "    }\n",
       "\n",
       "    .dataframe tbody tr th {\n",
       "        vertical-align: top;\n",
       "    }\n",
       "\n",
       "    .dataframe thead th {\n",
       "        text-align: right;\n",
       "    }\n",
       "</style>\n",
       "<table border=\"1\" class=\"dataframe\">\n",
       "  <thead>\n",
       "    <tr style=\"text-align: right;\">\n",
       "      <th></th>\n",
       "      <th>tweet</th>\n",
       "      <th>emotion</th>\n",
       "      <th>pred_emotions</th>\n",
       "    </tr>\n",
       "  </thead>\n",
       "  <tbody>\n",
       "    <tr>\n",
       "      <th>6584</th>\n",
       "      <td>Después de una gran noche del barca en HASHTAG, viene lo que viene.</td>\n",
       "      <td>others</td>\n",
       "      <td>[fear, pride]</td>\n",
       "    </tr>\n",
       "    <tr>\n",
       "      <th>7112</th>\n",
       "      <td>Pues se ha quedado buena noche después de que líderes y fieles enterraran por una vez en años sus diferencias para derrotar juntos a las fuerzas de la oscuridad... Hablo de HASHTAG HASHTAG HASHTAG HASHTAG HASHTAG</td>\n",
       "      <td>others</td>\n",
       "      <td>[admiration, pride]</td>\n",
       "    </tr>\n",
       "    <tr>\n",
       "      <th>5331</th>\n",
       "      <td>¿Y los padres de HASHTAG? ¿Nada que decir? ¿Dónde están? ¿Orgullosos? ¿Hastiados? ¿Apartados?</td>\n",
       "      <td>others</td>\n",
       "      <td>[confusion, curiosity]</td>\n",
       "    </tr>\n",
       "    <tr>\n",
       "      <th>7198</th>\n",
       "      <td>HASHTAG Es una pena que haya pasado esto, da mucha tristeza, espero que se recupere todo lo que se pueda, todo mi apoyo al pueblo parisino y francés</td>\n",
       "      <td>sadness</td>\n",
       "      <td>[caring, realization, surprise, neutral]</td>\n",
       "    </tr>\n",
       "    <tr>\n",
       "      <th>605</th>\n",
       "      <td>USER USER Lo que quiere hacer ver es que hay temas muchísimo mas graves donde mueren cientos de personas ahogadas y eso no abre telediarios ni los multimillonarios destinan cientos de millones de euros para paliar esos daños como si que lo hacen en casos com HASHTAG</td>\n",
       "      <td>anger</td>\n",
       "      <td>[pride]</td>\n",
       "    </tr>\n",
       "    <tr>\n",
       "      <th>4923</th>\n",
       "      <td>Si digo lo que pienso sobre las HASHTAG (y no me refiero solo a los resultados -que también- sino a las cosas que hace la gente) acabo detenida y en la Audiencia Nacional.</td>\n",
       "      <td>others</td>\n",
       "      <td>[disappointment, pride]</td>\n",
       "    </tr>\n",
       "    <tr>\n",
       "      <th>283</th>\n",
       "      <td>Resiste compañera!!!! Dolor al ver las imágenes de HASHTAG envuelta en llamas. Una pérdida mayúscula este símbolo de la arquitectura y la cultura gótica.   😢  URL</td>\n",
       "      <td>sadness</td>\n",
       "      <td>[caring, neutral]</td>\n",
       "    </tr>\n",
       "    <tr>\n",
       "      <th>7688</th>\n",
       "      <td>¿Cómo puede HASHTAG decir que no intervendrá en la situación de HASHTAG cuando HASHTAG es el más afectado por tal? ¿Qué tiene en la cabeza el presidente de México además de mierda?</td>\n",
       "      <td>anger</td>\n",
       "      <td>[anger, annoyance, curiosity, pride]</td>\n",
       "    </tr>\n",
       "    <tr>\n",
       "      <th>1159</th>\n",
       "      <td>HASHTAG Tanquetas militares arrollan a manifestantes en Caracas |VIDEO ► URL  URL</td>\n",
       "      <td>fear</td>\n",
       "      <td>[pride]</td>\n",
       "    </tr>\n",
       "    <tr>\n",
       "      <th>7925</th>\n",
       "      <td>Y ahora como me duermo yo joder HASHTAG</td>\n",
       "      <td>anger</td>\n",
       "      <td>[anger, annoyance, pride]</td>\n",
       "    </tr>\n",
       "  </tbody>\n",
       "</table>\n",
       "</div>"
      ],
      "text/plain": [
       "                                                                                                                                                                                                                                                                           tweet  \\\n",
       "6584                                                                                                                                                                                                         Después de una gran noche del barca en HASHTAG, viene lo que viene.   \n",
       "7112                                                        Pues se ha quedado buena noche después de que líderes y fieles enterraran por una vez en años sus diferencias para derrotar juntos a las fuerzas de la oscuridad... Hablo de HASHTAG HASHTAG HASHTAG HASHTAG HASHTAG   \n",
       "5331                                                                                                                                                                               ¿Y los padres de HASHTAG? ¿Nada que decir? ¿Dónde están? ¿Orgullosos? ¿Hastiados? ¿Apartados?   \n",
       "7198                                                                                                                        HASHTAG Es una pena que haya pasado esto, da mucha tristeza, espero que se recupere todo lo que se pueda, todo mi apoyo al pueblo parisino y francés   \n",
       "605   USER USER Lo que quiere hacer ver es que hay temas muchísimo mas graves donde mueren cientos de personas ahogadas y eso no abre telediarios ni los multimillonarios destinan cientos de millones de euros para paliar esos daños como si que lo hacen en casos com HASHTAG   \n",
       "4923                                                                                                 Si digo lo que pienso sobre las HASHTAG (y no me refiero solo a los resultados -que también- sino a las cosas que hace la gente) acabo detenida y en la Audiencia Nacional.   \n",
       "283                                                                                                           Resiste compañera!!!! Dolor al ver las imágenes de HASHTAG envuelta en llamas. Una pérdida mayúscula este símbolo de la arquitectura y la cultura gótica.   😢  URL   \n",
       "7688                                                                                        ¿Cómo puede HASHTAG decir que no intervendrá en la situación de HASHTAG cuando HASHTAG es el más afectado por tal? ¿Qué tiene en la cabeza el presidente de México además de mierda?   \n",
       "1159                                                                                                                                                                                           HASHTAG Tanquetas militares arrollan a manifestantes en Caracas |VIDEO ► URL  URL   \n",
       "7925                                                                                                                                                                                                                                     Y ahora como me duermo yo joder HASHTAG   \n",
       "\n",
       "      emotion                             pred_emotions  \n",
       "6584   others                             [fear, pride]  \n",
       "7112   others                       [admiration, pride]  \n",
       "5331   others                    [confusion, curiosity]  \n",
       "7198  sadness  [caring, realization, surprise, neutral]  \n",
       "605     anger                                   [pride]  \n",
       "4923   others                   [disappointment, pride]  \n",
       "283   sadness                         [caring, neutral]  \n",
       "7688    anger      [anger, annoyance, curiosity, pride]  \n",
       "1159     fear                                   [pride]  \n",
       "7925    anger                 [anger, annoyance, pride]  "
      ]
     },
     "metadata": {},
     "output_type": "display_data"
    }
   ],
   "source": [
    "pl.show_full_dataset(emo_event_df[[\"tweet\", \"emotion\", \"pred_emotions\"]].sample(10, random_state=41))"
   ]
  },
  {
   "cell_type": "code",
   "execution_count": 88,
   "id": "6e74db50",
   "metadata": {},
   "outputs": [
    {
     "data": {
      "text/html": [
       "<div>\n",
       "<style scoped>\n",
       "    .dataframe tbody tr th:only-of-type {\n",
       "        vertical-align: middle;\n",
       "    }\n",
       "\n",
       "    .dataframe tbody tr th {\n",
       "        vertical-align: top;\n",
       "    }\n",
       "\n",
       "    .dataframe thead th {\n",
       "        text-align: right;\n",
       "    }\n",
       "</style>\n",
       "<table border=\"1\" class=\"dataframe\">\n",
       "  <thead>\n",
       "    <tr style=\"text-align: right;\">\n",
       "      <th></th>\n",
       "      <th>tweet</th>\n",
       "      <th>emotion</th>\n",
       "      <th>pred_emotions</th>\n",
       "    </tr>\n",
       "  </thead>\n",
       "  <tbody>\n",
       "    <tr>\n",
       "      <th>85</th>\n",
       "      <td>RT si es PROVOCADO! !!!👉🏼🚨FAV si opinas que es sin querer 🔥 HASHTAG HASHTAG HASHTAG HASHTAG HASHTAG HASHTAG  URL</td>\n",
       "      <td>anger</td>\n",
       "      <td>[pride]</td>\n",
       "    </tr>\n",
       "    <tr>\n",
       "      <th>7448</th>\n",
       "      <td>Muy triste por la terrible pérdida de un simbolo de la arquitectura tan espléndido. Siempre postergué viajar a Paris porq lo veia tan cerca q prefería otros lugares, y ahora cuando vaya, ya no estará. Y no soy católica, pero si creyente, pero no imagino París sin ella HASHTAG</td>\n",
       "      <td>sadness</td>\n",
       "      <td>[disappointment, embarrassment, gratitude, joy, optimism, remorse, neutral]</td>\n",
       "    </tr>\n",
       "    <tr>\n",
       "      <th>7563</th>\n",
       "      <td>No me lo puedo creer... vergonzoso. HASHTAG  URL</td>\n",
       "      <td>anger</td>\n",
       "      <td>[excitement]</td>\n",
       "    </tr>\n",
       "    <tr>\n",
       "      <th>7918</th>\n",
       "      <td>Y así sigo... El puto mejor capítulo de la historia HASHTAG HASHTAG HASHTAG 😅  URL</td>\n",
       "      <td>joy</td>\n",
       "      <td>[admiration, pride]</td>\n",
       "    </tr>\n",
       "    <tr>\n",
       "      <th>4478</th>\n",
       "      <td>Me hubiese gustado una España teñida de morada pero no puedo ocultar mi orgullo de ver esta estampa👇 HASHTAG   URL</td>\n",
       "      <td>joy</td>\n",
       "      <td>[disappointment, nervousness, pride, relief]</td>\n",
       "    </tr>\n",
       "    <tr>\n",
       "      <th>1257</th>\n",
       "      <td>USER USER USER Puñado de infelices son HASHTAG indolentes a la destrucción de HASHTAG su República, arrodillados cumpliendo órdenes de sus patrones de HASHTAG y HASHTAG USER USER USER USER USER USER USER USER USER USER</td>\n",
       "      <td>sadness</td>\n",
       "      <td>[anger, pride]</td>\n",
       "    </tr>\n",
       "    <tr>\n",
       "      <th>5279</th>\n",
       "      <td>HASHTAG ¡Perú! Porque este grave problema es de todos, salimos a las calles a protestar por el HASHTAG USER USER USER HASHTAG HASHTAG HASHTAG HASHTAG HASHTAG HASHTAG HASHTAG  URL</td>\n",
       "      <td>others</td>\n",
       "      <td>[anger, pride]</td>\n",
       "    </tr>\n",
       "    <tr>\n",
       "      <th>6346</th>\n",
       "      <td>Así se vive el ganar un Campeonato. HASHTAG se levó su trofeo 34 de HASHTAG 🇪🇸  URL</td>\n",
       "      <td>others</td>\n",
       "      <td>[admiration, love, pride]</td>\n",
       "    </tr>\n",
       "    <tr>\n",
       "      <th>5241</th>\n",
       "      <td>\"La humanidad está en una encrucijada, debemos decidir qué camino queremos tomar\". Este Día Mundial de la Tierra te compartimos las palabras de HASHTAG en Londres, donde más de 831 personas han sido detenidas en manifestaciones no violentas contra el calentamiento global.  URL</td>\n",
       "      <td>others</td>\n",
       "      <td>[pride]</td>\n",
       "    </tr>\n",
       "    <tr>\n",
       "      <th>1757</th>\n",
       "      <td>Vamos a ver, que el HASHTAG es el mejor capítulo de la serie por ahora, no tiene discusión pero siendo sinceros, en los textos no se han matado mucho...  HASHTAG HASHTAG USER  URL</td>\n",
       "      <td>others</td>\n",
       "      <td>[admiration, approval, disapproval]</td>\n",
       "    </tr>\n",
       "  </tbody>\n",
       "</table>\n",
       "</div>"
      ],
      "text/plain": [
       "                                                                                                                                                                                                                                                                                      tweet  \\\n",
       "85                                                                                                                                                                         RT si es PROVOCADO! !!!👉🏼🚨FAV si opinas que es sin querer 🔥 HASHTAG HASHTAG HASHTAG HASHTAG HASHTAG HASHTAG  URL   \n",
       "7448   Muy triste por la terrible pérdida de un simbolo de la arquitectura tan espléndido. Siempre postergué viajar a Paris porq lo veia tan cerca q prefería otros lugares, y ahora cuando vaya, ya no estará. Y no soy católica, pero si creyente, pero no imagino París sin ella HASHTAG   \n",
       "7563                                                                                                                                                                                                                                       No me lo puedo creer... vergonzoso. HASHTAG  URL   \n",
       "7918                                                                                                                                                                                                     Y así sigo... El puto mejor capítulo de la historia HASHTAG HASHTAG HASHTAG 😅  URL   \n",
       "4478                                                                                                                                                                     Me hubiese gustado una España teñida de morada pero no puedo ocultar mi orgullo de ver esta estampa👇 HASHTAG   URL   \n",
       "1257                                                             USER USER USER Puñado de infelices son HASHTAG indolentes a la destrucción de HASHTAG su República, arrodillados cumpliendo órdenes de sus patrones de HASHTAG y HASHTAG USER USER USER USER USER USER USER USER USER USER   \n",
       "5279                                                                                                     HASHTAG ¡Perú! Porque este grave problema es de todos, salimos a las calles a protestar por el HASHTAG USER USER USER HASHTAG HASHTAG HASHTAG HASHTAG HASHTAG HASHTAG HASHTAG  URL   \n",
       "6346                                                                                                                                                                                                    Así se vive el ganar un Campeonato. HASHTAG se levó su trofeo 34 de HASHTAG 🇪🇸  URL   \n",
       "5241  \"La humanidad está en una encrucijada, debemos decidir qué camino queremos tomar\". Este Día Mundial de la Tierra te compartimos las palabras de HASHTAG en Londres, donde más de 831 personas han sido detenidas en manifestaciones no violentas contra el calentamiento global.  URL   \n",
       "1757                                                                                                    Vamos a ver, que el HASHTAG es el mejor capítulo de la serie por ahora, no tiene discusión pero siendo sinceros, en los textos no se han matado mucho...  HASHTAG HASHTAG USER  URL   \n",
       "\n",
       "      emotion  \\\n",
       "85      anger   \n",
       "7448  sadness   \n",
       "7563    anger   \n",
       "7918      joy   \n",
       "4478      joy   \n",
       "1257  sadness   \n",
       "5279   others   \n",
       "6346   others   \n",
       "5241   others   \n",
       "1757   others   \n",
       "\n",
       "                                                                    pred_emotions  \n",
       "85                                                                        [pride]  \n",
       "7448  [disappointment, embarrassment, gratitude, joy, optimism, remorse, neutral]  \n",
       "7563                                                                 [excitement]  \n",
       "7918                                                          [admiration, pride]  \n",
       "4478                                 [disappointment, nervousness, pride, relief]  \n",
       "1257                                                               [anger, pride]  \n",
       "5279                                                               [anger, pride]  \n",
       "6346                                                    [admiration, love, pride]  \n",
       "5241                                                                      [pride]  \n",
       "1757                                          [admiration, approval, disapproval]  "
      ]
     },
     "metadata": {},
     "output_type": "display_data"
    }
   ],
   "source": [
    "pl.show_full_dataset(emo_event_df[[\"tweet\", \"emotion\", \"pred_emotions\"]].sample(10, random_state=40))"
   ]
  },
  {
   "cell_type": "code",
   "execution_count": 89,
   "id": "47d09054",
   "metadata": {},
   "outputs": [
    {
     "data": {
      "text/html": [
       "<div>\n",
       "<style scoped>\n",
       "    .dataframe tbody tr th:only-of-type {\n",
       "        vertical-align: middle;\n",
       "    }\n",
       "\n",
       "    .dataframe tbody tr th {\n",
       "        vertical-align: top;\n",
       "    }\n",
       "\n",
       "    .dataframe thead th {\n",
       "        text-align: right;\n",
       "    }\n",
       "</style>\n",
       "<table border=\"1\" class=\"dataframe\">\n",
       "  <thead>\n",
       "    <tr style=\"text-align: right;\">\n",
       "      <th></th>\n",
       "      <th>tweet</th>\n",
       "      <th>emotion</th>\n",
       "      <th>pred_emotions</th>\n",
       "    </tr>\n",
       "  </thead>\n",
       "  <tbody>\n",
       "    <tr>\n",
       "      <th>1549</th>\n",
       "      <td>Ahora mismo ya no se si me gusta mas HASHTAG o HASHTAG Me lo tengo que pensar!!!</td>\n",
       "      <td>others</td>\n",
       "      <td>[confusion]</td>\n",
       "    </tr>\n",
       "    <tr>\n",
       "      <th>8063</th>\n",
       "      <td>Lo de Suárez es vergonzoso, un tío que no para de quejarse a todo Dios, menos jugar al fútbol mira que da por culo HASHTAG</td>\n",
       "      <td>anger</td>\n",
       "      <td>[embarrassment, excitement]</td>\n",
       "    </tr>\n",
       "    <tr>\n",
       "      <th>612</th>\n",
       "      <td>La Catedral Notre Dame 🖤😕 fui allí 📸 2005 i 2009 HASHTAG es muy tristeza. Es una gran pérdida para HASHTAG 🙏🏼  URL</td>\n",
       "      <td>sadness</td>\n",
       "      <td>[neutral]</td>\n",
       "    </tr>\n",
       "    <tr>\n",
       "      <th>4953</th>\n",
       "      <td>Ante estos resultados, expectativa de avances decididos en lucha contra la pobreza infantil, protección de la infancia contra la violencia, equidad en la educación. Que la infancia encuentre en las coaliciones el lugar que necesita tener HASHTAG  USER  URL</td>\n",
       "      <td>joy</td>\n",
       "      <td>[pride, realization]</td>\n",
       "    </tr>\n",
       "    <tr>\n",
       "      <th>1290</th>\n",
       "      <td>Guardamos la esperanza que no de embajada Chilena sea por tener un lugar seguro para planear los pasos a seguir HASHTAG</td>\n",
       "      <td>others</td>\n",
       "      <td>[approval, realization]</td>\n",
       "    </tr>\n",
       "    <tr>\n",
       "      <th>3549</th>\n",
       "      <td>Cuál  fue el peor gol fallado hoy en el HASHTAG HASHTAG HASHTAG</td>\n",
       "      <td>others</td>\n",
       "      <td>[anger, disappointment, disapproval, embarrassment, pride]</td>\n",
       "    </tr>\n",
       "    <tr>\n",
       "      <th>7730</th>\n",
       "      <td>hay un idiota tarifado que habla que si los HASHTAG entran en HASHTAG la vuelven como Siria, no sabe que los cubanos de la volvieron mier......, no sabe que 3.000.000 se han ido, fantoche HASHTAG USER</td>\n",
       "      <td>anger</td>\n",
       "      <td>[anger, annoyance, pride]</td>\n",
       "    </tr>\n",
       "    <tr>\n",
       "      <th>3617</th>\n",
       "      <td>¿Quieres un análisis HASHTAG sobre el cruce de la HASHTAG entre el HASHTAG y el HASHTAG? En USER fuimos a HASHTAG e hicimos nuestra HASHTAG de manera más objetiva.👉  URL x HASHTAG] HASHTAG ⚽🇨🇺  URL</td>\n",
       "      <td>others</td>\n",
       "      <td>[curiosity, pride]</td>\n",
       "    </tr>\n",
       "    <tr>\n",
       "      <th>1129</th>\n",
       "      <td>guaidó ha cruzado todas las líneas rojas. Sus acciones irresponsables y criminales causan siempre desgracias personales. La cárcel es el lugar para los golpistas que atacan a la democracia venezolana HASHTAG</td>\n",
       "      <td>anger</td>\n",
       "      <td>[annoyance, disappointment, disapproval, pride]</td>\n",
       "    </tr>\n",
       "    <tr>\n",
       "      <th>6570</th>\n",
       "      <td>Si Barcelona no gana hoy 3-0 el Liverpool se lo va a afilar en la vuelta HASHTAG HASHTAG HASHTAG</td>\n",
       "      <td>others</td>\n",
       "      <td>[pride]</td>\n",
       "    </tr>\n",
       "  </tbody>\n",
       "</table>\n",
       "</div>"
      ],
      "text/plain": [
       "                                                                                                                                                                                                                                                                 tweet  \\\n",
       "1549                                                                                                                                                                                  Ahora mismo ya no se si me gusta mas HASHTAG o HASHTAG Me lo tengo que pensar!!!   \n",
       "8063                                                                                                                                        Lo de Suárez es vergonzoso, un tío que no para de quejarse a todo Dios, menos jugar al fútbol mira que da por culo HASHTAG   \n",
       "612                                                                                                                                                 La Catedral Notre Dame 🖤😕 fui allí 📸 2005 i 2009 HASHTAG es muy tristeza. Es una gran pérdida para HASHTAG 🙏🏼  URL   \n",
       "4953  Ante estos resultados, expectativa de avances decididos en lucha contra la pobreza infantil, protección de la infancia contra la violencia, equidad en la educación. Que la infancia encuentre en las coaliciones el lugar que necesita tener HASHTAG  USER  URL   \n",
       "1290                                                                                                                                           Guardamos la esperanza que no de embajada Chilena sea por tener un lugar seguro para planear los pasos a seguir HASHTAG   \n",
       "3549                                                                                                                                                                                                   Cuál  fue el peor gol fallado hoy en el HASHTAG HASHTAG HASHTAG   \n",
       "7730                                                          hay un idiota tarifado que habla que si los HASHTAG entran en HASHTAG la vuelven como Siria, no sabe que los cubanos de la volvieron mier......, no sabe que 3.000.000 se han ido, fantoche HASHTAG USER   \n",
       "3617                                                             ¿Quieres un análisis HASHTAG sobre el cruce de la HASHTAG entre el HASHTAG y el HASHTAG? En USER fuimos a HASHTAG e hicimos nuestra HASHTAG de manera más objetiva.👉  URL x HASHTAG] HASHTAG ⚽🇨🇺  URL   \n",
       "1129                                                   guaidó ha cruzado todas las líneas rojas. Sus acciones irresponsables y criminales causan siempre desgracias personales. La cárcel es el lugar para los golpistas que atacan a la democracia venezolana HASHTAG   \n",
       "6570                                                                                                                                                                  Si Barcelona no gana hoy 3-0 el Liverpool se lo va a afilar en la vuelta HASHTAG HASHTAG HASHTAG   \n",
       "\n",
       "      emotion                                               pred_emotions  \n",
       "1549   others                                                 [confusion]  \n",
       "8063    anger                                 [embarrassment, excitement]  \n",
       "612   sadness                                                   [neutral]  \n",
       "4953      joy                                        [pride, realization]  \n",
       "1290   others                                     [approval, realization]  \n",
       "3549   others  [anger, disappointment, disapproval, embarrassment, pride]  \n",
       "7730    anger                                   [anger, annoyance, pride]  \n",
       "3617   others                                          [curiosity, pride]  \n",
       "1129    anger             [annoyance, disappointment, disapproval, pride]  \n",
       "6570   others                                                     [pride]  "
      ]
     },
     "metadata": {},
     "output_type": "display_data"
    }
   ],
   "source": [
    "pl.show_full_dataset(emo_event_df[[\"tweet\", \"emotion\", \"pred_emotions\"]].sample(10, random_state=39))"
   ]
  },
  {
   "cell_type": "code",
   "execution_count": null,
   "id": "0925e0ce",
   "metadata": {},
   "outputs": [],
   "source": [
    "emotion_cols = [\n",
    "    'admiration', 'amusement', 'anger', 'annoyance', 'approval', 'caring', 'confusion', 'curiosity',\n",
    "    'desire', 'disappointment', 'disapproval', 'embarrassment', 'excitement', 'fear', 'gratitude',\n",
    "    'grief', 'joy', 'love', 'nervousness', 'optimism', 'pride', 'realization', 'relief', 'remorse',\n",
    "    'sadness', 'surprise', 'neutral', 'disgust'\n",
    "]"
   ]
  },
  {
   "cell_type": "code",
   "execution_count": null,
   "id": "b69f8f51",
   "metadata": {},
   "outputs": [],
   "source": [
    "label2id = {label: idx for idx, label in enumerate(emotion_cols)}\n",
    "id2label = {str(idx): label for label, idx in label2id.items()}\n",
    "\n",
    "model.config.label2id = label2id\n",
    "model.config.id2label = id2label"
   ]
  },
  {
   "cell_type": "code",
   "execution_count": 10,
   "id": "e165f7bd",
   "metadata": {},
   "outputs": [
    {
     "data": {
      "text/plain": [
       "{'0': 'admiration',\n",
       " '1': 'amusement',\n",
       " '2': 'anger',\n",
       " '3': 'annoyance',\n",
       " '4': 'approval',\n",
       " '5': 'caring',\n",
       " '6': 'confusion',\n",
       " '7': 'curiosity',\n",
       " '8': 'desire',\n",
       " '9': 'disappointment',\n",
       " '10': 'disapproval',\n",
       " '11': 'embarrassment',\n",
       " '12': 'excitement',\n",
       " '13': 'fear',\n",
       " '14': 'gratitude',\n",
       " '15': 'grief',\n",
       " '16': 'joy',\n",
       " '17': 'love',\n",
       " '18': 'nervousness',\n",
       " '19': 'optimism',\n",
       " '20': 'pride',\n",
       " '21': 'realization',\n",
       " '22': 'relief',\n",
       " '23': 'remorse',\n",
       " '24': 'sadness',\n",
       " '25': 'surprise',\n",
       " '26': 'neutral',\n",
       " '27': 'disgust'}"
      ]
     },
     "execution_count": 10,
     "metadata": {},
     "output_type": "execute_result"
    }
   ],
   "source": [
    "model.config.id2label"
   ]
  },
  {
   "cell_type": "code",
   "execution_count": 13,
   "id": "11afa71c",
   "metadata": {},
   "outputs": [
    {
     "data": {
      "text/plain": [
       "('D:\\\\python\\\\ml\\\\feel-track\\\\api\\\\model\\\\tokenizer_config.json',\n",
       " 'D:\\\\python\\\\ml\\\\feel-track\\\\api\\\\model\\\\special_tokens_map.json',\n",
       " 'D:\\\\python\\\\ml\\\\feel-track\\\\api\\\\model\\\\vocab.txt',\n",
       " 'D:\\\\python\\\\ml\\\\feel-track\\\\api\\\\model\\\\added_tokens.json',\n",
       " 'D:\\\\python\\\\ml\\\\feel-track\\\\api\\\\model\\\\tokenizer.json')"
      ]
     },
     "execution_count": 13,
     "metadata": {},
     "output_type": "execute_result"
    }
   ],
   "source": [
    "import review_analyzer.config as config\n",
    "\n",
    "model.save_pretrained(config.API_MODEL)\n",
    "tokenizer.save_pretrained(config.API_MODEL)"
   ]
  },
  {
   "cell_type": "code",
   "execution_count": null,
   "id": "43d0a912",
   "metadata": {},
   "outputs": [],
   "source": []
  },
  {
   "cell_type": "code",
   "execution_count": null,
   "id": "55623bf9",
   "metadata": {},
   "outputs": [],
   "source": []
  },
  {
   "cell_type": "code",
   "execution_count": null,
   "id": "b3e0f744",
   "metadata": {},
   "outputs": [],
   "source": []
  },
  {
   "cell_type": "code",
   "execution_count": null,
   "id": "0d3cdd1e",
   "metadata": {},
   "outputs": [],
   "source": [
    "nuevos_textos = [\n",
    "    \"No entiendo nada de lo que pasa últimamente.\",\n",
    "    \"¡Estoy tan feliz por la noticia!\",\n",
    "    \"Otra vez se cayó el sistema, qué frustración.\"\n",
    "]\n"
   ]
  },
  {
   "cell_type": "code",
   "execution_count": null,
   "id": "74818e30",
   "metadata": {},
   "outputs": [],
   "source": [
    "import torch\n",
    "\n",
    "inputs = tokenizer(nuevos_textos, return_tensors=\"pt\", padding=True, truncation=True, max_length=128)\n",
    "\n",
    "with torch.no_grad():\n",
    "    logits = model(**inputs).logits\n",
    "    probs = torch.sigmoid(logits)\n",
    "\n",
    "preds = (probs > 0.5).int().tolist()\n"
   ]
  },
  {
   "cell_type": "code",
   "execution_count": null,
   "id": "16f8b3a7",
   "metadata": {},
   "outputs": [],
   "source": [
    "emotion_to_label = {\n",
    "    'neutral': 'testimonio',\n",
    "    'realization': 'testimonio',\n",
    "    'pride': 'testimonio',\n",
    "    'sadness': 'testimonio',\n",
    "\n",
    "    'joy': 'satisfacción',\n",
    "    'optimism': 'satisfacción',\n",
    "    'relief': 'satisfacción',\n",
    "\n",
    "    'curiosity': 'consulta',\n",
    "    'confusion': 'consulta',\n",
    "\n",
    "    'disappointment': 'decepción',\n",
    "    'disapproval': 'decepción',\n",
    "\n",
    "    'annoyance': 'queja',\n",
    "    'anger': 'queja',\n",
    "\n",
    "    'remorse': 'frustración',\n",
    "    'nervousness': 'frustración',\n",
    "    'sadness': 'frustración',\n",
    "    'anger': 'frustración',\n",
    "\n",
    "    'confusion': 'confusión',\n",
    "\n",
    "    'surprise': 'sorpresa',\n",
    "\n",
    "    'excitement': 'entusiasmo',\n",
    "    'joy': 'entusiasmo',\n",
    "    'optimism': 'entusiasmo'\n",
    "}\n",
    "\n",
    "emotion_labels = model.config.id2label.values() if hasattr(model.config, \"id2label\") else list(emotion_to_label.keys())\n",
    "emotion_labels = list(emotion_labels)"
   ]
  },
  {
   "cell_type": "code",
   "execution_count": null,
   "id": "6d0c1ae0",
   "metadata": {},
   "outputs": [],
   "source": [
    "final_labels = []\n",
    "for pred_row in preds:\n",
    "    mapped = set()\n",
    "    for i, val in enumerate(pred_row):\n",
    "        if val == 1:\n",
    "            emotion = emotion_labels[i]\n",
    "            mapped_label = emotion_to_label.get(emotion)\n",
    "            if mapped_label:\n",
    "                mapped.add(mapped_label)\n",
    "    final_labels.append(list(mapped))\n"
   ]
  },
  {
   "cell_type": "code",
   "execution_count": null,
   "id": "9fbe4fee",
   "metadata": {},
   "outputs": [],
   "source": [
    "for txt, etiquetas in zip(nuevos_textos, final_labels):\n",
    "    print(f\"Texto: {txt}\\n→ Etiquetas predichas: {etiquetas}\\n\")"
   ]
  },
  {
   "cell_type": "code",
   "execution_count": null,
   "id": "dfe04953",
   "metadata": {},
   "outputs": [],
   "source": []
  },
  {
   "cell_type": "code",
   "execution_count": null,
   "id": "2bd4269f",
   "metadata": {},
   "outputs": [],
   "source": []
  }
 ],
 "metadata": {
  "kernelspec": {
   "display_name": "venv",
   "language": "python",
   "name": "python3"
  },
  "language_info": {
   "codemirror_mode": {
    "name": "ipython",
    "version": 3
   },
   "file_extension": ".py",
   "mimetype": "text/x-python",
   "name": "python",
   "nbconvert_exporter": "python",
   "pygments_lexer": "ipython3",
   "version": "3.11.9"
  }
 },
 "nbformat": 4,
 "nbformat_minor": 5
}
